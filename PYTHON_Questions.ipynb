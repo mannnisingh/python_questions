{
  "nbformat": 4,
  "nbformat_minor": 0,
  "metadata": {
    "colab": {
      "provenance": []
    },
    "kernelspec": {
      "name": "python3",
      "display_name": "Python 3"
    },
    "language_info": {
      "name": "python"
    }
  },
  "cells": [
    {
      "cell_type": "markdown",
      "source": [
        "Question: 1\n",
        "\n",
        "\n",
        "You have an input dictionary given,\n",
        "\n",
        "input_dict = {\"abc\":{\"def\":{\"ghi\":{\"jkl\":{\"mno\":{\"pqr\":{\"stu\":{\"vwx\":{\"yz\":\"you are finally here !!!\"}}}}}}}}}\n",
        "\n",
        "Task:  You have to write a Python function that will take this input and print it like that,\n",
        "\n",
        "output = {\"abc\":[\"def\",\"ghi\",\"jkl\",\"mno\",\"pqr\",\"stu\",\"vwx\",\"yz\"],\n",
        " \"def\":[\"ghi\",\"jkl\",\"mno\",\"pqr\",\"stu\",\"vwx\",\"yz\"],\n",
        " \"ghi\":[\"jkl\",\"mno\",\"pqr\",\"stu\",\"vwx\",\"yz\"],\n",
        " \"jkl\":[\"mno\",\"pqr\",\"stu\",\"vwx\",\"yz\"],\n",
        " \"mno\":[\"pqr\",\"stu\",\"vwx\",\"yz\"],\n",
        " \"pqr\":[\"stu\",\"vwx\",\"yz\"],\n",
        " \"stu\":[\"vwx\",\"yz\"],\n",
        " \"vwx\":[\"yz\"],\n",
        " \"yz\":[\"you are finally here !!!\"]}"
      ],
      "metadata": {
        "id": "jrMKb6QvNmV8"
      }
    },
    {
      "cell_type": "code",
      "source": [
        "def flatten_dict(input_dict, prefix=[]):\n",
        "    output = {}\n",
        "    for key, value in input_dict.items():\n",
        "        if isinstance(value, dict):\n",
        "            nested_prefix = prefix + [key]\n",
        "            nested_output = flatten_dict(value, nested_prefix)\n",
        "            for k, v in nested_output.items():\n",
        "                output[k] = v\n",
        "        else:\n",
        "            output[\"-\".join(prefix + [key])] = value\n",
        "    return output\n",
        "\n",
        "def print_output(input_dict):\n",
        "    flat_dict = flatten_dict(input_dict)\n",
        "    output = {}\n",
        "    for key, value in flat_dict.items():\n",
        "        keys = key.split(\"-\")\n",
        "        if len(keys) > 1:\n",
        "            output[keys[0]] = output.get(keys[0], []) + [keys[1]]\n",
        "        else:\n",
        "            output[keys[0]] = value\n",
        "    print(output)\n",
        "\n",
        "input_dict = {\"abc\":{\"def\":{\"ghi\":{\"jkl\":{\"mno\":{\"pqr\":{\"stu\":{\"vwx\":{\"yz\":\"you are finally here !!!\"}}}}}}}}}\n",
        "print_output(input_dict)\n"
      ],
      "metadata": {
        "colab": {
          "base_uri": "https://localhost:8080/"
        },
        "id": "0RLCDcgnOv3p",
        "outputId": "b43a8f6a-39c8-4087-db9e-988be83b5cfe"
      },
      "execution_count": 2,
      "outputs": [
        {
          "output_type": "stream",
          "name": "stdout",
          "text": [
            "{'abc': ['def']}\n"
          ]
        }
      ]
    },
    {
      "cell_type": "markdown",
      "source": [
        "Question: 2\n",
        "\n",
        "\n",
        "Given an array of length ‘N’, where each element denotes the position of a stall. Now you have ‘N’ stalls and an integer ‘K’ which denotes the number of horses that are mad. To prevent the horses from hurting each other, you need to assign the horses to the stalls, such that the minimum distance between any two of them is as large as possible. Return the largest minimum distance.\n",
        "\n",
        "array: 1,2,4,8,9  &  k=3\n",
        "\n",
        "O/P: 3"
      ],
      "metadata": {
        "id": "W1gIKNvbPFSj"
      }
    },
    {
      "cell_type": "code",
      "source": [
        "def min_distance_between_horses(stalls, k):\n",
        "    stalls.sort()\n",
        "\n",
        "    def is_valid(distance):\n",
        "        horses_placed = 1\n",
        "        last_position = stalls[0]\n",
        "        for i in range(1, len(stalls)):\n",
        "            if stalls[i] - last_position >= distance:\n",
        "                horses_placed += 1\n",
        "                last_position = stalls[i]\n",
        "        return horses_placed >= k\n",
        "\n",
        "    left, right = 1, stalls[-1] - stalls[0]\n",
        "\n",
        "    while left <= right:\n",
        "        mid = left + (right - left) // 2\n",
        "        if is_valid(mid):\n",
        "            left = mid + 1\n",
        "        else:\n",
        "            right = mid - 1\n",
        "\n",
        "    return right\n",
        "\n",
        "# Example usage:\n",
        "stalls = [1, 2, 4, 8, 9]\n",
        "k = 3\n",
        "print(min_distance_between_horses(stalls, k))  # Output: 3\n"
      ],
      "metadata": {
        "colab": {
          "base_uri": "https://localhost:8080/"
        },
        "id": "Xorq6Rb4O1Ob",
        "outputId": "51e2625a-54b7-457b-a4cc-45b1ffcb8371"
      },
      "execution_count": 6,
      "outputs": [
        {
          "output_type": "stream",
          "name": "stdout",
          "text": [
            "3\n"
          ]
        }
      ]
    },
    {
      "cell_type": "markdown",
      "source": [
        "Question: 3\n",
        "\n",
        "Given an array nums of n integers, return an array of all the unique quadruplets [nums[a], nums[b], nums[c], nums[d]] such that:\n",
        "\n",
        "   a) 0 <= a, b, c, d < n\n",
        "   b) a, b, c, and d are distinct.\n",
        "   c) nums[a] + nums[b] + nums[c] + nums[d] == target"
      ],
      "metadata": {
        "id": "iDE3GL9_PnO3"
      }
    },
    {
      "cell_type": "code",
      "source": [
        "def four_sum(nums, target):\n",
        "    nums.sort()  # Sort the array to simplify the process\n",
        "\n",
        "    result = set()\n",
        "\n",
        "    # Create a hashmap to store the sum of each pair of indices\n",
        "    pair_sums = {}\n",
        "    n = len(nums)\n",
        "    for i in range(n):\n",
        "        for j in range(i + 1, n):\n",
        "            pair_sums[nums[i] + nums[j]] = (i, j)\n",
        "\n",
        "    # Iterate through pairs of indices (c, d)\n",
        "    for c in range(n):\n",
        "        for d in range(c + 1, n):\n",
        "            complement = target - (nums[c] + nums[d])\n",
        "            if complement in pair_sums:\n",
        "                a, b = pair_sums[complement]\n",
        "                # Ensure a, b, c, and d are distinct\n",
        "                if a != c and a != d and b != c and b != d:\n",
        "                    # Add the quadruplet to the result set\n",
        "                    result.add((nums[a], nums[b], nums[c], nums[d]))\n",
        "\n",
        "    return list(result)\n",
        "\n",
        "# Example usage:\n",
        "nums = [1, 0, -1, 0, -2, 2]\n",
        "target = 0\n",
        "print(four_sum(nums, target))  # Output: [[-2, -1, 1, 2], [-2, 0, 0, 2], [-1, 0, 0, 1]]\n"
      ],
      "metadata": {
        "colab": {
          "base_uri": "https://localhost:8080/"
        },
        "id": "gPhDCep_PWas",
        "outputId": "46e9fcd2-9c13-49e2-d88b-1a3db253c3d1"
      },
      "execution_count": 7,
      "outputs": [
        {
          "output_type": "stream",
          "name": "stdout",
          "text": [
            "[(1, 2, -2, -1), (-2, 0, 0, 2), (-2, -1, 1, 2), (0, 1, -1, 0), (0, 0, -2, 2), (-1, 0, 0, 1), (0, 0, -1, 1), (0, 2, -2, 0)]\n"
          ]
        }
      ]
    },
    {
      "cell_type": "code",
      "source": [],
      "metadata": {
        "id": "rxAz2LMuPckM"
      },
      "execution_count": null,
      "outputs": []
    }
  ]
}